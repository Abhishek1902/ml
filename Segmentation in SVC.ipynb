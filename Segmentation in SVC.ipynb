{
 "cells": [
  {
   "cell_type": "code",
   "execution_count": 6,
   "metadata": {},
   "outputs": [],
   "source": [
    "import pandas as pd\n"
   ]
  },
  {
   "cell_type": "code",
   "execution_count": 7,
   "metadata": {},
   "outputs": [],
   "source": [
    "df = pd.read_csv(r\"segmentations.csv\",sep=\";\",index_col=0)\n",
    "df=df.replace(\",\",\".\",regex=True)"
   ]
  },
  {
   "cell_type": "code",
   "execution_count": 8,
   "metadata": {},
   "outputs": [
    {
     "data": {
      "text/html": [
       "<div>\n",
       "<style scoped>\n",
       "    .dataframe tbody tr th:only-of-type {\n",
       "        vertical-align: middle;\n",
       "    }\n",
       "\n",
       "    .dataframe tbody tr th {\n",
       "        vertical-align: top;\n",
       "    }\n",
       "\n",
       "    .dataframe thead th {\n",
       "        text-align: right;\n",
       "    }\n",
       "</style>\n",
       "<table border=\"1\" class=\"dataframe\">\n",
       "  <thead>\n",
       "    <tr style=\"text-align: right;\">\n",
       "      <th></th>\n",
       "      <th>Class</th>\n",
       "      <th>AngleCh1</th>\n",
       "      <th>AngleStatusCh1</th>\n",
       "      <th>AreaCh1</th>\n",
       "      <th>AreaStatusCh1</th>\n",
       "      <th>AvgIntenCh1</th>\n",
       "      <th>AvgIntenCh2</th>\n",
       "      <th>AvgIntenCh3</th>\n",
       "      <th>AvgIntenCh4</th>\n",
       "      <th>AvgIntenStatusCh1</th>\n",
       "      <th>...</th>\n",
       "      <th>VarIntenCh1</th>\n",
       "      <th>VarIntenCh3</th>\n",
       "      <th>VarIntenCh4</th>\n",
       "      <th>VarIntenStatusCh1</th>\n",
       "      <th>VarIntenStatusCh3</th>\n",
       "      <th>VarIntenStatusCh4</th>\n",
       "      <th>WidthCh1</th>\n",
       "      <th>WidthStatusCh1</th>\n",
       "      <th>XCentroid</th>\n",
       "      <th>YCentroid</th>\n",
       "    </tr>\n",
       "    <tr>\n",
       "      <th>Cell</th>\n",
       "      <th></th>\n",
       "      <th></th>\n",
       "      <th></th>\n",
       "      <th></th>\n",
       "      <th></th>\n",
       "      <th></th>\n",
       "      <th></th>\n",
       "      <th></th>\n",
       "      <th></th>\n",
       "      <th></th>\n",
       "      <th></th>\n",
       "      <th></th>\n",
       "      <th></th>\n",
       "      <th></th>\n",
       "      <th></th>\n",
       "      <th></th>\n",
       "      <th></th>\n",
       "      <th></th>\n",
       "      <th></th>\n",
       "      <th></th>\n",
       "      <th></th>\n",
       "    </tr>\n",
       "  </thead>\n",
       "  <tbody>\n",
       "    <tr>\n",
       "      <th>207932307</th>\n",
       "      <td>PS</td>\n",
       "      <td>133.752036738381</td>\n",
       "      <td>0</td>\n",
       "      <td>819</td>\n",
       "      <td>1</td>\n",
       "      <td>31.923273657289</td>\n",
       "      <td>205.878516624041</td>\n",
       "      <td>69.9168797953964</td>\n",
       "      <td>164.153452685422</td>\n",
       "      <td>0</td>\n",
       "      <td>...</td>\n",
       "      <td>18.8092251818892</td>\n",
       "      <td>56.7153524052215</td>\n",
       "      <td>118.388138714715</td>\n",
       "      <td>0</td>\n",
       "      <td>0</td>\n",
       "      <td>0</td>\n",
       "      <td>32.1612612689832</td>\n",
       "      <td>1</td>\n",
       "      <td>215</td>\n",
       "      <td>347</td>\n",
       "    </tr>\n",
       "    <tr>\n",
       "      <th>207932463</th>\n",
       "      <td>WS</td>\n",
       "      <td>106.646387269631</td>\n",
       "      <td>0</td>\n",
       "      <td>431</td>\n",
       "      <td>0</td>\n",
       "      <td>28.0388349514563</td>\n",
       "      <td>115.315533980583</td>\n",
       "      <td>63.9417475728155</td>\n",
       "      <td>106.696601941748</td>\n",
       "      <td>0</td>\n",
       "      <td>...</td>\n",
       "      <td>17.2956430509413</td>\n",
       "      <td>37.6710533054249</td>\n",
       "      <td>49.4705236165922</td>\n",
       "      <td>0</td>\n",
       "      <td>0</td>\n",
       "      <td>0</td>\n",
       "      <td>21.1855251610911</td>\n",
       "      <td>0</td>\n",
       "      <td>371</td>\n",
       "      <td>252</td>\n",
       "    </tr>\n",
       "    <tr>\n",
       "      <th>207932470</th>\n",
       "      <td>PS</td>\n",
       "      <td>69.1503248054558</td>\n",
       "      <td>0</td>\n",
       "      <td>298</td>\n",
       "      <td>0</td>\n",
       "      <td>19.4561403508772</td>\n",
       "      <td>101.294736842105</td>\n",
       "      <td>28.2175438596491</td>\n",
       "      <td>31.0280701754386</td>\n",
       "      <td>0</td>\n",
       "      <td>...</td>\n",
       "      <td>13.8189676099506</td>\n",
       "      <td>30.0056434622124</td>\n",
       "      <td>24.7495366207621</td>\n",
       "      <td>0</td>\n",
       "      <td>0</td>\n",
       "      <td>2</td>\n",
       "      <td>13.3928295377181</td>\n",
       "      <td>0</td>\n",
       "      <td>487</td>\n",
       "      <td>295</td>\n",
       "    </tr>\n",
       "    <tr>\n",
       "      <th>207932484</th>\n",
       "      <td>WS</td>\n",
       "      <td>109.416426339951</td>\n",
       "      <td>0</td>\n",
       "      <td>256</td>\n",
       "      <td>0</td>\n",
       "      <td>18.8285714285714</td>\n",
       "      <td>125.938775510204</td>\n",
       "      <td>13.6</td>\n",
       "      <td>46.8</td>\n",
       "      <td>0</td>\n",
       "      <td>...</td>\n",
       "      <td>13.9229365891433</td>\n",
       "      <td>18.6430268191512</td>\n",
       "      <td>40.3317467501516</td>\n",
       "      <td>0</td>\n",
       "      <td>0</td>\n",
       "      <td>2</td>\n",
       "      <td>17.546861208011</td>\n",
       "      <td>0</td>\n",
       "      <td>211</td>\n",
       "      <td>495</td>\n",
       "    </tr>\n",
       "    <tr>\n",
       "      <th>207932459</th>\n",
       "      <td>PS</td>\n",
       "      <td>104.278653971599</td>\n",
       "      <td>0</td>\n",
       "      <td>258</td>\n",
       "      <td>0</td>\n",
       "      <td>17.5708502024291</td>\n",
       "      <td>124.368421052632</td>\n",
       "      <td>22.4615384615385</td>\n",
       "      <td>71.2064777327935</td>\n",
       "      <td>0</td>\n",
       "      <td>...</td>\n",
       "      <td>12.3249705588758</td>\n",
       "      <td>17.7471426240211</td>\n",
       "      <td>41.9285332602849</td>\n",
       "      <td>0</td>\n",
       "      <td>0</td>\n",
       "      <td>2</td>\n",
       "      <td>17.6603386215061</td>\n",
       "      <td>0</td>\n",
       "      <td>172</td>\n",
       "      <td>207</td>\n",
       "    </tr>\n",
       "  </tbody>\n",
       "</table>\n",
       "<p>5 rows × 117 columns</p>\n",
       "</div>"
      ],
      "text/plain": [
       "          Class          AngleCh1  AngleStatusCh1  AreaCh1  AreaStatusCh1  \\\n",
       "Cell                                                                        \n",
       "207932307    PS  133.752036738381               0      819              1   \n",
       "207932463    WS  106.646387269631               0      431              0   \n",
       "207932470    PS  69.1503248054558               0      298              0   \n",
       "207932484    WS  109.416426339951               0      256              0   \n",
       "207932459    PS  104.278653971599               0      258              0   \n",
       "\n",
       "                AvgIntenCh1       AvgIntenCh2       AvgIntenCh3  \\\n",
       "Cell                                                              \n",
       "207932307   31.923273657289  205.878516624041  69.9168797953964   \n",
       "207932463  28.0388349514563  115.315533980583  63.9417475728155   \n",
       "207932470  19.4561403508772  101.294736842105  28.2175438596491   \n",
       "207932484  18.8285714285714  125.938775510204              13.6   \n",
       "207932459  17.5708502024291  124.368421052632  22.4615384615385   \n",
       "\n",
       "                AvgIntenCh4  AvgIntenStatusCh1    ...          VarIntenCh1  \\\n",
       "Cell                                              ...                        \n",
       "207932307  164.153452685422                  0    ...     18.8092251818892   \n",
       "207932463  106.696601941748                  0    ...     17.2956430509413   \n",
       "207932470  31.0280701754386                  0    ...     13.8189676099506   \n",
       "207932484              46.8                  0    ...     13.9229365891433   \n",
       "207932459  71.2064777327935                  0    ...     12.3249705588758   \n",
       "\n",
       "                VarIntenCh3       VarIntenCh4 VarIntenStatusCh1  \\\n",
       "Cell                                                              \n",
       "207932307  56.7153524052215  118.388138714715                 0   \n",
       "207932463  37.6710533054249  49.4705236165922                 0   \n",
       "207932470  30.0056434622124  24.7495366207621                 0   \n",
       "207932484  18.6430268191512  40.3317467501516                 0   \n",
       "207932459  17.7471426240211  41.9285332602849                 0   \n",
       "\n",
       "           VarIntenStatusCh3 VarIntenStatusCh4          WidthCh1  \\\n",
       "Cell                                                               \n",
       "207932307                  0                 0  32.1612612689832   \n",
       "207932463                  0                 0  21.1855251610911   \n",
       "207932470                  0                 2  13.3928295377181   \n",
       "207932484                  0                 2   17.546861208011   \n",
       "207932459                  0                 2  17.6603386215061   \n",
       "\n",
       "          WidthStatusCh1 XCentroid YCentroid  \n",
       "Cell                                          \n",
       "207932307              1       215       347  \n",
       "207932463              0       371       252  \n",
       "207932470              0       487       295  \n",
       "207932484              0       211       495  \n",
       "207932459              0       172       207  \n",
       "\n",
       "[5 rows x 117 columns]"
      ]
     },
     "execution_count": 8,
     "metadata": {},
     "output_type": "execute_result"
    }
   ],
   "source": [
    "df.head()"
   ]
  },
  {
   "cell_type": "code",
   "execution_count": 9,
   "metadata": {},
   "outputs": [],
   "source": [
    "X = df.iloc[:,1:]\n",
    "dum_x=pd.get_dummies(X, drop_first=True)\n",
    "y=df.iloc[:,0]\n",
    "dum_y=pd.get_dummies(y, drop_first=True)"
   ]
  },
  {
   "cell_type": "code",
   "execution_count": 12,
   "metadata": {},
   "outputs": [],
   "source": [
    "from sklearn.svm import SVC\n",
    "from sklearn.model_selection import train_test_split \n",
    "from sklearn.metrics import confusion_matrix, classification_report, accuracy_score\n"
   ]
  },
  {
   "cell_type": "code",
   "execution_count": 13,
   "metadata": {},
   "outputs": [],
   "source": [
    "X_train, X_test, y_train, y_test = train_test_split(dum_x, dum_y, test_size = 0.3, \n",
    "                                                    random_state=42)"
   ]
  },
  {
   "cell_type": "code",
   "execution_count": 14,
   "metadata": {},
   "outputs": [
    {
     "name": "stderr",
     "output_type": "stream",
     "text": [
      "C:\\Users\\pc\\Anaconda3\\lib\\site-packages\\sklearn\\utils\\validation.py:761: DataConversionWarning: A column-vector y was passed when a 1d array was expected. Please change the shape of y to (n_samples, ), for example using ravel().\n",
      "  y = column_or_1d(y, warn=True)\n"
     ]
    }
   ],
   "source": [
    "svm=SVC(kernel='linear')\n",
    "svm1=svm.fit(X_train,y_train)\n",
    "y_pred=svm.predict(X_test)"
   ]
  },
  {
   "cell_type": "code",
   "execution_count": 15,
   "metadata": {},
   "outputs": [
    {
     "name": "stdout",
     "output_type": "stream",
     "text": [
      "[[165  33]\n",
      " [ 33  72]]\n",
      "              precision    recall  f1-score   support\n",
      "\n",
      "           0       0.83      0.83      0.83       198\n",
      "           1       0.69      0.69      0.69       105\n",
      "\n",
      "   micro avg       0.78      0.78      0.78       303\n",
      "   macro avg       0.76      0.76      0.76       303\n",
      "weighted avg       0.78      0.78      0.78       303\n",
      "\n",
      "0.7821782178217822\n"
     ]
    }
   ],
   "source": [
    "print(confusion_matrix(y_test, y_pred))\n",
    "print(classification_report(y_test, y_pred))\n",
    "print(accuracy_score(y_test,y_pred))"
   ]
  },
  {
   "cell_type": "code",
   "execution_count": 16,
   "metadata": {},
   "outputs": [],
   "source": [
    "# Import necessary modules\n",
    "from sklearn.metrics import roc_curve, roc_auc_score\n",
    "\n",
    "## Compute predicted probabilities: y_pred_prob\n",
    "#y_pred_prob = svm.predict_proba(X_test)[:,1]"
   ]
  },
  {
   "cell_type": "code",
   "execution_count": 17,
   "metadata": {},
   "outputs": [],
   "source": [
    "# Generate ROC curve values: fpr, tpr, thresholds\n",
    "fpr, tpr, thresholds = roc_curve(y_test, y_pred)\n"
   ]
  },
  {
   "cell_type": "code",
   "execution_count": 19,
   "metadata": {},
   "outputs": [
    {
     "data": {
      "image/png": "[encoded data removed]",
      "text/plain": [
       "<Figure size 432x288 with 1 Axes>"
      ]
     },
     "metadata": {
      "needs_background": "light"
     },
     "output_type": "display_data"
    },
    {
     "data": {
      "text/plain": [
       "0.7595238095238096"
      ]
     },
     "execution_count": 19,
     "metadata": {},
     "output_type": "execute_result"
    }
   ],
   "source": [
    "# Plot ROC curve\n",
    "import matplotlib.pyplot as plt\n",
    "plt.plot([0, 1], [0, 1], 'k--')\n",
    "plt.plot(fpr, tpr)\n",
    "plt.xlabel('False Positive Rate')\n",
    "plt.ylabel('True Positive Rate')\n",
    "plt.title('ROC Curve')\n",
    "plt.show()\n",
    "roc_auc_score(y_test, y_pred)\n"
   ]
  }
 ],
 "metadata": {
  "kernelspec": {
   "display_name": "Python 3",
   "language": "python",
   "name": "python3"
  },
  "language_info": {
   "codemirror_mode": {
    "name": "ipython",
    "version": 3
   },
   "file_extension": ".py",
   "mimetype": "text/x-python",
   "name": "python",
   "nbconvert_exporter": "python",
   "pygments_lexer": "ipython3",
   "version": "3.7.1"
  }
 },
 "nbformat": 4,
 "nbformat_minor": 2
}
